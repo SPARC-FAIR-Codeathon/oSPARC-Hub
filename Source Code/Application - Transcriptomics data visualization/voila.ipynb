{
 "cells": [
  {
   "cell_type": "markdown",
   "id": "c565b34b-256f-4b45-8ada-15c0d78ae022",
   "metadata": {
    "tags": []
   },
   "source": [
    "# Visualize Transcriptomic data"
   ]
  },
  {
   "cell_type": "code",
   "execution_count": 46,
   "id": "f300bc98-9c85-49e3-9bd1-9fff52494842",
   "metadata": {
    "tags": []
   },
   "outputs": [],
   "source": [
    "import sys\n",
    "sys.stdout = open('/dev/null', 'w')\n",
    "!pip install -r requirements.txt\n",
    "!pip install bioinfokit\n",
    "!pip install gseapy\n",
    "!pip install seaborn"
   ]
  },
  {
   "cell_type": "code",
   "execution_count": 58,
   "id": "7b59a2d2-e186-4e70-8ba2-a71be8c9e1b5",
   "metadata": {
    "tags": []
   },
   "outputs": [
    {
     "data": {
      "application/vnd.jupyter.widget-view+json": {
       "model_id": "16a93fa3c4a04756b69f71a15d9f30f0",
       "version_major": 2,
       "version_minor": 0
      },
      "text/plain": [
       "ToggleButtons(description='Select Option:', options=('Import CSV file', 'Demo'), tooltips=('Import a CSV file'…"
      ]
     },
     "metadata": {},
     "output_type": "display_data"
    },
    {
     "data": {
      "application/vnd.jupyter.widget-view+json": {
       "model_id": "f5a9461db9ab44189a938fe9166e37bd",
       "version_major": 2,
       "version_minor": 0
      },
      "text/plain": [
       "VBox(children=(FileUpload(value=(), accept='.csv', description='Upload'),))"
      ]
     },
     "metadata": {},
     "output_type": "display_data"
    },
    {
     "data": {
      "application/vnd.jupyter.widget-view+json": {
       "model_id": "76ec3151d9274adabdf1f38bf5e889d3",
       "version_major": 2,
       "version_minor": 0
      },
      "text/plain": [
       "Button(description='Submit', style=ButtonStyle())"
      ]
     },
     "metadata": {},
     "output_type": "display_data"
    },
    {
     "data": {
      "application/vnd.jupyter.widget-view+json": {
       "model_id": "9c8c0ac99aeb40e1ba9b48fdbb139d0a",
       "version_major": 2,
       "version_minor": 0
      },
      "text/plain": [
       "Output()"
      ]
     },
     "metadata": {},
     "output_type": "display_data"
    }
   ],
   "source": [
    "import os\n",
    "import ipywidgets as widgets\n",
    "from IPython.display import display\n",
    "import numpy as np\n",
    "import pandas as pd\n",
    "import warnings\n",
    "import matplotlib.pyplot as plt\n",
    "from bioinfokit import visuz\n",
    "import gseapy as gp\n",
    "import ipywidgets as widgets\n",
    "from IPython.display import display,clear_output, HTML\n",
    "import os\n",
    "import seaborn as sns\n",
    "# Directory to save the uploaded file\n",
    "save_dir = \"internal data\"\n",
    "\n",
    "# Create the directory if it doesn't exist\n",
    "if not os.path.exists(save_dir):\n",
    "    os.makedirs(save_dir)\n",
    "\n",
    "# Define the toggle buttons (mutually exclusive selection)\n",
    "toggle_buttons = widgets.ToggleButtons(\n",
    "    options=['Import CSV file',  'Demo'],\n",
    "    description='Select Option:',\n",
    "    disabled=False,\n",
    "    button_style='',  # Can be 'success', 'info', 'warning', 'danger' for different styles\n",
    "    tooltips=['Import a CSV file', 'Use demo data'],\n",
    ")\n",
    "\n",
    "# Create a FileUpload widget\n",
    "file_upload = widgets.FileUpload(\n",
    "    accept='.csv',  # Accept CSV files\n",
    "    multiple=False  # Only allow single file uploads\n",
    ")\n",
    "\n",
    "# Create an output widget to display messages\n",
    "output = widgets.Output()\n",
    "\n",
    "# Button to submit the selection\n",
    "button = widgets.Button(description='Submit')\n",
    "\n",
    "# Function to update the displayed widgets based on the selected option\n",
    "def update_widgets(*args):\n",
    "    selected_option = toggle_buttons.value\n",
    "    # Update file upload visibility\n",
    "    if selected_option == 'Import CSV file':\n",
    "        file_upload_container.children = [file_upload]  # Show file upload widget if Import VTK file is selected\n",
    "    else:\n",
    "        file_upload_container.children = []  # Hide file upload widget for other selections\n",
    "\n",
    "# Attach the update function to the toggle buttons\n",
    "toggle_buttons.observe(update_widgets, names='value')\n",
    "\n",
    "# Function to handle the button click event\n",
    "def on_button_click(b):\n",
    "    with output:\n",
    "        output.clear_output()  # Clear previous output\n",
    "        selected_option = toggle_buttons.value\n",
    "        \n",
    "        if selected_option == 'Demo':\n",
    "            print(\"Loading demonstration data...\")\n",
    "            demo_data = \"internal data/demo_expression_data.csv\"\n",
    "            data1 = pd.read_csv(demo_data, skiprows=[29675])\n",
    "        \n",
    "        elif selected_option == 'Import CSV file':\n",
    "            if file_upload.value:\n",
    "                # Process the file upload\n",
    "                handle_file_upload()\n",
    "                input_data = \"internal data/imported.csv\"\n",
    "                data1 = pd.read_csv(input_data, skiprows=[29675])\n",
    "            else:\n",
    "                print(\"No file uploaded. Please upload a CSV file using the file upload widget.\")\n",
    "        \n",
    "        else:\n",
    "            print(\"No Data source is defined. Please choose an option.\")\n",
    "        \n",
    "        display(\"Genetic expression profile\")\n",
    "        pvalue = 0.05\n",
    "        logFC = 0\n",
    "        data1.columns = [\"Gene\", \"P.Value\", \"Log FC\"]\n",
    "        data1[\"expression\"] = \"Not differentially expressed\"\n",
    "        data1.loc[((data1[\"P.Value\"]<pvalue) &(data1[\"Log FC\"]>logFC)), \"expression\"]= \"Down regulated\"\n",
    "        data1.loc[((data1[\"P.Value\"]<pvalue) &(data1[\"Log FC\"]< -1*logFC)), \"expression\"]= \"Up regulated\"\n",
    "        display(data1.head())  # Display the dataframe\n",
    "\n",
    "        display(\"Volcano Plot\")\n",
    "\n",
    "        # St thresholds for significance\n",
    "        logFC_threshold = 1\n",
    "        pvalue_threshold = 0.05\n",
    "\n",
    "        # Calculate -log10(p-value)\n",
    "        data1['-log10(P.Value)'] = -np.log10(data1['P.Value'])\n",
    "\n",
    "        # Create the plot\n",
    "        plt.figure(figsize=(10, 8))\n",
    "        plt.scatter(data1['Log FC'], data1['-log10(P.Value)'], color='gray')\n",
    "\n",
    "        # Highlight significant points\n",
    "        significant = (abs(data1['Log FC']) > logFC_threshold) & (data1['P.Value'] < pvalue_threshold)\n",
    "        plt.scatter(data1.loc[significant, 'Log FC'], data1.loc[significant, '-log10(P.Value)'], color='red')\n",
    "\n",
    "        # Add labels and title\n",
    "        plt.title('Volcano Plot', fontsize=20)\n",
    "        plt.xlabel('Log2 Fold Change', fontsize=16)\n",
    "        plt.ylabel('-Log10 P-value', fontsize=16)\n",
    "\n",
    "        # Optional: Annotate points with gene names\n",
    "        #for i in data1.index:\n",
    "        #    if significant[i]:\n",
    "        #        plt.text(data1['Log FC'][i], data1['-log10(P.Value)'][i], data1['Gene'][i], fontsize=1)\n",
    "\n",
    "        # Draw thresholds\n",
    "        plt.axhline(-np.log10(pvalue_threshold), color='blue', linestyle='--')\n",
    "        plt.axvline(logFC_threshold, color='blue', linestyle='--')\n",
    "        plt.axvline(-logFC_threshold, color='blue', linestyle='--')\n",
    "\n",
    "        # Show plot\n",
    "        plt.show()\n",
    "\n",
    "        # Filter the DataFrame for upregulated genes\n",
    "        Genes = data1[data1['expression'] != \"Not differentially expressed\"]['Gene']\n",
    "\n",
    "        # Convert the filtered gene list to a list\n",
    "        gene_list = Genes.tolist()\n",
    "        display(\"Genetic Ontology enrichment analysis\")\n",
    "        # Perform GO enrichment analysis\n",
    "        enr = gp.enrichr(gene_list=gene_list,  # List of upregulated gene symbols\n",
    "                         gene_sets='GO_Biological_Process_2021',  # Use GO Biological Process\n",
    "                         organism='Human',  # Organism\n",
    "                         outdir=None)  # Directory to save results (None to avoid saving)\n",
    "\n",
    "        # Convert results to DataFrame\n",
    "        results_df = pd.DataFrame(enr.results)\n",
    "\n",
    "        # Reorder columns to place 'Gene' column first\n",
    "        ordered_columns = ['Genes'] + [col for col in results_df.columns if col != 'Genes']\n",
    "        results_df = results_df[ordered_columns]\n",
    "        # Remove everything after the first semicolon and keep only the first gene name\n",
    "        results_df['Genes'] = results_df['Genes'].apply(lambda x: x.split(';')[0] if isinstance(x, str) else x)\n",
    "        display(results_df.head())  # Display the dataframe\n",
    "        results_df.to_csv('go_enrichment_results.csv', index=False)\n",
    "        display(\"Genetic Ontology enrichment Plot\")\n",
    "        # Plotting\n",
    "        plt.figure(figsize=(12, 8))\n",
    "\n",
    "        # Plot top 10 enriched GO terms by p-value\n",
    "        top_results = results_df.head(10)\n",
    "        #sns.barplot(x='P-value', y='Term', data=top_results, palette='viridis')\n",
    "        sns.barplot(x='P-value', y='Term', data=top_results, hue='Term', palette='viridis', legend=False)\n",
    "\n",
    "        # Add labels and title\n",
    "        plt.xlabel('P-value')\n",
    "        plt.ylabel('GO Term')\n",
    "        plt.title('Top 10 Enriched GO Terms')\n",
    "\n",
    "        # Display the plot\n",
    "        plt.tight_layout()\n",
    "        plt.savefig('go_enrichment_plot.png')  # Save the plot to a file\n",
    "        plt.show()\n",
    "\n",
    "\n",
    "\n",
    "# Function to handle file upload and save it to the folder\n",
    "def handle_file_upload():\n",
    "    with output:\n",
    "        output.clear_output()  # Clear previous output\n",
    "        \n",
    "        if file_upload.value:\n",
    "            # Get the uploaded file content\n",
    "            uploaded_file = file_upload.value[0]  # Access the tuple directly\n",
    "            uploaded_filename = uploaded_file['name']\n",
    "            content = uploaded_file['content']  # Access the actual file content\n",
    "            \n",
    "            # Save the file to the specified directory\n",
    "            file_path = os.path.join(save_dir, \"imported.csv\")\n",
    "            with open(file_path, \"wb\") as f:\n",
    "                f.write(content)\n",
    "            \n",
    "            print(\"File successfully imported\")\n",
    "        else:\n",
    "            print(\"No file uploaded\")\n",
    "\n",
    "# Attach the button click event to the function\n",
    "button.on_click(on_button_click)\n",
    "\n",
    "# Container to hold the dropdown widgets (empty initially)\n",
    "dropdown_container = widgets.VBox([])\n",
    "\n",
    "# Container to hold the file upload widget (empty initially)\n",
    "file_upload_container = widgets.VBox([file_upload])\n",
    "\n",
    "# Display the widgets\n",
    "display(toggle_buttons, file_upload_container, button, output)\n",
    "\n",
    "# Initial call to set up the widgets based on default selection\n",
    "update_widgets()\n"
   ]
  }
 ],
 "metadata": {
  "kernelspec": {
   "display_name": "python (maths)",
   "language": "python",
   "name": "python-maths"
  },
  "language_info": {
   "codemirror_mode": {
    "name": "ipython",
    "version": 3
   },
   "file_extension": ".py",
   "mimetype": "text/x-python",
   "name": "python",
   "nbconvert_exporter": "python",
   "pygments_lexer": "ipython3",
   "version": "3.9.10"
  }
 },
 "nbformat": 4,
 "nbformat_minor": 5
}
