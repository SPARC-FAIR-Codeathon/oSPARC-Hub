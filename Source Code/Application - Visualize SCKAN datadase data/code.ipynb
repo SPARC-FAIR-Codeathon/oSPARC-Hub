{
 "cells": [
  {
   "cell_type": "markdown",
   "id": "e410c85f-9029-4312-937e-ac986fb9ac0d",
   "metadata": {},
   "source": [
    "# Visualize SCKAN datadase data"
   ]
  },
  {
   "cell_type": "markdown",
   "id": "bcc9bf7e-cce8-4153-b4e2-7a0f6c7ffb34",
   "metadata": {},
   "source": [
    "### This tool allows you to access data fromm the SCKAN database.\n",
    "### The results include a table, a simplified body map illustrating the neurons between the regions, and a simplified plot illustration the intermidiate regions."
   ]
  },
  {
   "cell_type": "code",
   "execution_count": null,
   "id": "895aa09b-e0fa-474f-a23d-f80dd89ee6a8",
   "metadata": {},
   "outputs": [],
   "source": [
    "import sys\n",
    "sys.stdout = open('/dev/null', 'w')\n",
    "!pip install -r requirements.txt\n",
    "!pip install sckan_compare"
   ]
  },
  {
   "cell_type": "code",
   "execution_count": 12,
   "id": "6b9c9590-d20f-4cea-b11b-34eebee3132c",
   "metadata": {
    "tags": []
   },
   "outputs": [],
   "source": [
    "# Import necessary libraries\n",
    "from sckan_compare import SckanCompare\n",
    "from sckan_compare import query\n",
    "import numpy as np\n",
    "import pandas as pd\n",
    "import ipywidgets as widgets\n",
    "from IPython.display import display, clear_output,HTML"
   ]
  },
  {
   "cell_type": "code",
   "execution_count": 13,
   "id": "52324266-154a-4aae-a719-4292f1d326e6",
   "metadata": {
    "tags": []
   },
   "outputs": [],
   "source": [
    "sc = SckanCompare()\n",
    "result = sc.execute_query(query.neuron_path_all_species_query)\n",
    "resultdf = pd.DataFrame(result)\n",
    "resultdf.columns = resultdf.iloc[0]  # set the first row as column names\n",
    "resultdf = resultdf.iloc[1:]  # remove the first row (now duplicate column names)\n",
    "#resultdf.head()\n",
    "columns_to_keep = [\"Neuron_Label\", \"Region_A\", \"Region_B\", \"Region_C\"]"
   ]
  },
  {
   "cell_type": "code",
   "execution_count": 45,
   "id": "cc542317-a62c-4c1f-8f47-ee9a4042d396",
   "metadata": {
    "tags": []
   },
   "outputs": [
    {
     "data": {
      "application/vnd.jupyter.widget-view+json": {
       "model_id": "6d7848b1428f4a45859738111eb39d46",
       "version_major": 2,
       "version_minor": 0
      },
      "text/plain": [
       "HBox(children=(VBox(children=(HTML(value='<h3>Please Select target data</h3>'), VBox(children=(Dropdown(descri…"
      ]
     },
     "metadata": {},
     "output_type": "display_data"
    },
    {
     "data": {
      "text/html": [
       "<style>.sidebar {background-color: #f0f0f0; padding: 10px;}</style>"
      ],
      "text/plain": [
       "<IPython.core.display.HTML object>"
      ]
     },
     "metadata": {},
     "output_type": "display_data"
    },
    {
     "data": {
      "text/html": [
       "<style>.main-panel {background-color: #ffffff; padding: 20px;}</style>"
      ],
      "text/plain": [
       "<IPython.core.display.HTML object>"
      ]
     },
     "metadata": {},
     "output_type": "display_data"
    },
    {
     "ename": "AttributeError",
     "evalue": "'VBox' object has no attribute '_repr_html_'",
     "output_type": "error",
     "traceback": [
      "\u001b[0;31m---------------------------------------------------------------------------\u001b[0m",
      "\u001b[0;31mAttributeError\u001b[0m                            Traceback (most recent call last)",
      "Cell \u001b[0;32mIn[45], line 181\u001b[0m\n\u001b[1;32m    178\u001b[0m display(HTML(\u001b[38;5;124m'\u001b[39m\u001b[38;5;124m<style>.sidebar \u001b[39m\u001b[38;5;124m{\u001b[39m\u001b[38;5;124mbackground-color: #f0f0f0; padding: 10px;}</style>\u001b[39m\u001b[38;5;124m'\u001b[39m))\n\u001b[1;32m    179\u001b[0m display(HTML(\u001b[38;5;124m'\u001b[39m\u001b[38;5;124m<style>.main-panel \u001b[39m\u001b[38;5;124m{\u001b[39m\u001b[38;5;124mbackground-color: #ffffff; padding: 20px;}</style>\u001b[39m\u001b[38;5;124m'\u001b[39m))\n\u001b[0;32m--> 181\u001b[0m display(HTML(\u001b[38;5;124m'\u001b[39m\u001b[38;5;124m<div class=\u001b[39m\u001b[38;5;124m\"\u001b[39m\u001b[38;5;124msidebar\u001b[39m\u001b[38;5;124m\"\u001b[39m\u001b[38;5;124m>\u001b[39m\u001b[38;5;124m'\u001b[39m \u001b[38;5;241m+\u001b[39m \u001b[43msidebar_widget\u001b[49m\u001b[38;5;241;43m.\u001b[39;49m\u001b[43m_repr_html_\u001b[49m() \u001b[38;5;241m+\u001b[39m \u001b[38;5;124m'\u001b[39m\u001b[38;5;124m</div>\u001b[39m\u001b[38;5;124m'\u001b[39m))\n\u001b[1;32m    182\u001b[0m display(HTML(\u001b[38;5;124m'\u001b[39m\u001b[38;5;124m<div class=\u001b[39m\u001b[38;5;124m\"\u001b[39m\u001b[38;5;124mmain-panel\u001b[39m\u001b[38;5;124m\"\u001b[39m\u001b[38;5;124m>\u001b[39m\u001b[38;5;124m'\u001b[39m \u001b[38;5;241m+\u001b[39m main_panel_widget\u001b[38;5;241m.\u001b[39m_repr_html_() \u001b[38;5;241m+\u001b[39m \u001b[38;5;124m'\u001b[39m\u001b[38;5;124m</div>\u001b[39m\u001b[38;5;124m'\u001b[39m))\n",
      "\u001b[0;31mAttributeError\u001b[0m: 'VBox' object has no attribute '_repr_html_'"
     ]
    }
   ],
   "source": [
    "\n",
    "\n",
    "# Define dropdown menus\n",
    "species_options = ['Human', 'Mouse', 'Rat']\n",
    "species_dropdown = widgets.Dropdown(\n",
    "    options=species_options,\n",
    "    value=species_options[0],\n",
    "    description='Species:',\n",
    ")\n",
    "\n",
    "columns = result[0]\n",
    "df = pd.DataFrame(result[1:], columns=columns)\n",
    "df.head()\n",
    "\n",
    "Region_A_list = list(df['Region_A'].unique())\n",
    "Region_B_list = list(df['Region_B'].unique())\n",
    "\n",
    "start_regions_options = Region_A_list\n",
    "start_regions_dropdown = widgets.Dropdown(\n",
    "    options=start_regions_options,\n",
    "    value=start_regions_options[0],\n",
    "    description='Start Region:',\n",
    ")\n",
    "\n",
    "end_regions_options = Region_B_list\n",
    "end_regions_dropdown = widgets.Dropdown(\n",
    "    options=end_regions_options,\n",
    "    value=end_regions_options[0],\n",
    "    description='End Region:',\n",
    ")\n",
    "\n",
    "# Create an output widget to display results\n",
    "output = widgets.Output()\n",
    "\n",
    "# Function to handle the button click event\n",
    "def on_button_click(b):\n",
    "    with output:\n",
    "        clear_output()\n",
    "                # Check if the checkbox is checked\n",
    "        if checkbox.value:\n",
    "                    filtered_df = resultdf[resultdf['Species'].str.contains('human|Homo sapiens', case=False)]\n",
    "                    input_regionA_sp1 = \"pelvic ganglion\"\n",
    "                    input_regionB_sp1 =\"ovary\"\n",
    "                    input_species = \"Homo sapiens\"\n",
    "                    final_plus_pheno = filtered_df[(filtered_df.Region_A == input_regionA_sp1) & (filtered_df.Region_B == input_regionB_sp1)]\n",
    "                    columns_to_keep = [\"Neuron_Label\", \"Region_A\", \"Region_B\", \"Region_C\"]\n",
    "                    final_plus_pheno =final_plus_pheno[columns_to_keep]\n",
    "                    final_plus_pheno =final_plus_pheno.rename(columns={\n",
    "                                                    'Region_A': 'Start Region',\n",
    "                                                    'Region_C': 'Intermediate Region',\n",
    "                                                    'Region_B': 'End Region',\n",
    "                                                     })\n",
    "                    display(\"Table bellow documents all connection between the start and end regions\") \n",
    "                    display( final_plus_pheno)\n",
    "                    req_df = filtered_df[(filtered_df.Region_A == input_regionA_sp1) & (filtered_df.Region_B == input_regionB_sp1)]\n",
    "                    #req_df.head()\n",
    "                    columns_to_keep = [\"Neuron_Label\", \"Region_A\", \"Region_B\", \"Region_C\"]\n",
    "                    fig1 = sc.plot_dataframe_anatomy_vis(req_df, species=input_species)\n",
    "                    display(\"The interactive plot below is a simplified map illustrating the neurons between the regions\") \n",
    "                    fig1.show()\n",
    "                    fig2 = sc.plot_dataframe_block_vis(filtered_df, input_regionA_sp1, input_regionB_sp1)  \n",
    "                    display(\"The interactive plot below is simplified plot illustration the intermidiate regions\")  \n",
    "                    fig2.show() \n",
    "        else:        \n",
    "                # Filter DataFrame based on the selected value\n",
    "                if species_dropdown.value == 'Human':\n",
    "                    filtered_df = resultdf[resultdf['Species'].str.contains('human|Homo sapiens', case=False)]\n",
    "                    input_regionA_sp1 = start_regions_dropdown.value\n",
    "                    input_regionB_sp1 = end_regions_dropdown.value\n",
    "                    input_species = \"Homo sapiens\"\n",
    "                    final_plus_pheno = filtered_df[(filtered_df.Region_A == input_regionA_sp1) & (filtered_df.Region_B == input_regionB_sp1)]\n",
    "                    columns_to_keep = [\"Neuron_Label\", \"Region_A\", \"Region_B\", \"Region_C\"]\n",
    "                    final_plus_pheno =final_plus_pheno[columns_to_keep]\n",
    "                    final_plus_pheno =final_plus_pheno.rename(columns={\n",
    "                                                    'Region_A': 'Start Region',\n",
    "                                                    'Region_C': 'Intermediate Region',\n",
    "                                                    'Region_B': 'End Region',\n",
    "                                                     })\n",
    "                    display(\"Table bellow documents all connection between the start and end regions\") \n",
    "                    display( final_plus_pheno)\n",
    "                    req_df = filtered_df[(filtered_df.Region_A == input_regionA_sp1) & (filtered_df.Region_B == input_regionB_sp1)]\n",
    "                    #req_df.head()\n",
    "                    columns_to_keep = [\"Neuron_Label\", \"Region_A\", \"Region_B\", \"Region_C\"]\n",
    "                    fig1 = sc.plot_dataframe_anatomy_vis(req_df, species=input_species)\n",
    "                    display(\"The interactive plot below is a simplified map illustrating the neurons between the regions\") \n",
    "                    fig1.show()\n",
    "                    fig2 = sc.plot_dataframe_block_vis(filtered_df, input_regionA_sp1, input_regionB_sp1)  \n",
    "                    display(\"The interactive plot below is simplified plot illustration the intermidiate regions\")  \n",
    "                    fig2.show() \n",
    "                elif  species_dropdown.value == 'Rat':\n",
    "                    filtered_df = resultdf[resultdf['Species'].str.contains('brown rat|Norway rat|rat|rats|Rattus norvegicus', case=False)]\n",
    "                    input_regionA_sp1 = start_regions_dropdown.value\n",
    "                    input_regionB_sp1 = end_regions_dropdown.value\n",
    "                    input_species = \"Rattus norvegicus\"\n",
    "                    final_plus_pheno = filtered_df[(filtered_df.Region_A == input_regionA_sp1) & (filtered_df.Region_B == input_regionB_sp1)]\n",
    "                    columns_to_keep = [\"Neuron_Label\", \"Region_A\", \"Region_B\", \"Region_C\"]\n",
    "                    final_plus_pheno =final_plus_pheno[columns_to_keep]\n",
    "                    final_plus_pheno =final_plus_pheno.rename(columns={\n",
    "                                                    'Region_A': 'Start Region',\n",
    "                                                    'Region_C': 'Intermediate Region',\n",
    "                                                    'Region_B': 'End Region',\n",
    "                                                })\n",
    "                    display(\"Table bellow documents all connection between the start and end regions\") \n",
    "                    display( final_plus_pheno)\n",
    "                    req_df = filtered_df[(filtered_df.Region_A == input_regionA_sp1) & (filtered_df.Region_B == input_regionB_sp1)]\n",
    "                    #req_df.head()\n",
    "                    columns_to_keep = [\"Neuron_Label\", \"Region_A\", \"Region_B\", \"Region_C\"]\n",
    "                    fig1 = sc.plot_dataframe_anatomy_vis(req_df, species=input_species)\n",
    "                    display(\"The interactive plot below is a simplified map illustrating the neurons between the regions\") \n",
    "                    fig1.show()\n",
    "                    fig2 = sc.plot_dataframe_block_vis(filtered_df, input_regionA_sp1, input_regionB_sp1)  \n",
    "                    display(\"The interactive plot below is simplified plot illustration the intermidiate regions\")  \n",
    "                    fig2.show() \n",
    "                elif  species_dropdown.value == 'Mouse':\n",
    "                    filtered_df = resultdf[resultdf['Species'].str.contains('house mouse|mouse|Mus musculus|', case=False)]\n",
    "                    input_regionA_sp1 = start_regions_dropdown.value\n",
    "                    input_regionB_sp1 = end_regions_dropdown.value\n",
    "                    input_species = \"Mus musculus\"\n",
    "                    final_plus_pheno = filtered_df[(filtered_df.Region_A == input_regionA_sp1) & (filtered_df.Region_B == input_regionB_sp1)]\n",
    "                    columns_to_keep = [\"Neuron_Label\", \"Region_A\", \"Region_B\", \"Region_C\"]\n",
    "                    final_plus_pheno =final_plus_pheno[columns_to_keep]\n",
    "                    final_plus_pheno =final_plus_pheno.rename(columns={\n",
    "                                                    'Region_A': 'Start Region',\n",
    "                                                    'Region_C': 'Intermediate Region',\n",
    "                                                    'Region_B': 'End Region',\n",
    "                                                })\n",
    "                    display(\"Table bellow documents all connection between the start and end regions\") \n",
    "                    display( final_plus_pheno)\n",
    "                    req_df = filtered_df[(filtered_df.Region_A == input_regionA_sp1) & (filtered_df.Region_B == input_regionB_sp1)]\n",
    "                    #req_df.head()\n",
    "                    columns_to_keep = [\"Neuron_Label\", \"Region_A\", \"Region_B\", \"Region_C\"]\n",
    "                    fig1 = sc.plot_dataframe_anatomy_vis(req_df, species=input_species)\n",
    "                    display(\"The interactive plot below is a simplified map illustrating the neurons between the regions\") \n",
    "                    fig1.show()\n",
    "                    fig2 = sc.plot_dataframe_block_vis(filtered_df, input_regionA_sp1, input_regionB_sp1)  \n",
    "                    display(\"The interactive plot below is simplified plot illustration the intermidiate regions\")  \n",
    "                    fig2.show() \n",
    "                else:\n",
    "                    print(\"No filtering applied for this selection.\")\n",
    "\n",
    "# Create a button and link it to the function\n",
    "# Create a checkbox\n",
    "checkbox = widgets.Checkbox(\n",
    "    value=False,\n",
    "    description='Demonstration',\n",
    "    disabled=False\n",
    ")\n",
    "submit_button = widgets.Button(description='Submit')\n",
    "submit_button.on_click(on_button_click)\n",
    "#########layout \n",
    "# Create the sidebar widget with the dropdown menus and button\n",
    "sidebar_widget = widgets.VBox([\n",
    "    species_dropdown,\n",
    "    start_regions_dropdown,\n",
    "    end_regions_dropdown,\n",
    "    checkbox,\n",
    "    submit_button\n",
    "])\n",
    "\n",
    "# Create the main panel widget\n",
    "main_panel_widget = widgets.VBox([\n",
    "    #widgets.Label('The results include a table, a simplified body map illustrating the neurons between the regions, and a simplified plot illustration the intermidiate regions'),\n",
    "    output\n",
    "])\n",
    "\n",
    "# Create a HBox to arrange the sidebar and main panel side by side\n",
    "layout_widget = widgets.HBox([\n",
    "    widgets.VBox([\n",
    "        widgets.HTML(\"<h3>Please Select target data</h3>\"),\n",
    "        sidebar_widget,\n",
    "    ], layout=widgets.Layout(width='25%', background_color='#f0f0f0')),\n",
    "    widgets.VBox([\n",
    "        widgets.HTML(\"<h3></h3>\"),\n",
    "        main_panel_widget\n",
    "    ], layout=widgets.Layout(width='75%', background_color='#ffffff'))\n",
    "])\n",
    "\n",
    "# Display the layout widget\n",
    "display(layout_widget)\n",
    "\n"
   ]
  }
 ],
 "metadata": {
  "kernelspec": {
   "display_name": "python (maths)",
   "language": "python",
   "name": "python-maths"
  },
  "language_info": {
   "codemirror_mode": {
    "name": "ipython",
    "version": 3
   },
   "file_extension": ".py",
   "mimetype": "text/x-python",
   "name": "python",
   "nbconvert_exporter": "python",
   "pygments_lexer": "ipython3",
   "version": "3.9.10"
  }
 },
 "nbformat": 4,
 "nbformat_minor": 5
}
